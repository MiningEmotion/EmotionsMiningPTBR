{
  "cells": [
    {
      "cell_type": "markdown",
      "id": "WBSq4OnnjKkY",
      "metadata": {
        "id": "WBSq4OnnjKkY"
      },
      "source": [
        "## Importações"
      ]
    },
    {
      "cell_type": "code",
      "execution_count": 1,
      "id": "cd08c21a",
      "metadata": {
        "colab": {
          "base_uri": "https://localhost:8080/"
        },
        "id": "cd08c21a",
        "outputId": "b7707286-ba29-48d4-8ae4-479c0b93e23a"
      },
      "outputs": [
        {
          "name": "stderr",
          "output_type": "stream",
          "text": [
            "[nltk_data] Downloading package rslp to\n",
            "[nltk_data]     C:\\Users\\syann\\AppData\\Roaming\\nltk_data...\n",
            "[nltk_data]   Package rslp is already up-to-date!\n",
            "[nltk_data] Downloading package stopwords to\n",
            "[nltk_data]     C:\\Users\\syann\\AppData\\Roaming\\nltk_data...\n",
            "[nltk_data]   Package stopwords is already up-to-date!\n"
          ]
        }
      ],
      "source": [
        "from skmultilearn.adapt import MLkNN\n",
        "from sklearn.pipeline import Pipeline\n",
        "from sklearn.model_selection import GridSearchCV, train_test_split\n",
        "from sklearn.metrics import hamming_loss, accuracy_score, precision_score, recall_score, f1_score, confusion_matrix\n",
        "from sklearn.metrics import accuracy_score, precision_score, recall_score, f1_score, classification_report\n",
        "\n",
        "from sklearn.feature_extraction.text import CountVectorizer, TfidfVectorizer\n",
        "from nltk.tokenize import RegexpTokenizer\n",
        "from collections import Counter\n",
        "from unicodedata import normalize\n",
        "import joblib\n",
        "from sklearn.metrics import multilabel_confusion_matrix, ConfusionMatrixDisplay\n",
        "\n",
        "from sklearn.svm import LinearSVC\n",
        "from sklearn.multioutput import MultiOutputClassifier\n",
        "\n",
        "import pandas as pd\n",
        "import nltk\n",
        "import numpy as np\n",
        "import string\n",
        "import matplotlib.pyplot as plt\n",
        "import seaborn as sns\n",
        "import warnings\n",
        "\n",
        "warnings.filterwarnings('ignore')\n",
        "nltk.download('rslp')\n",
        "nltk.download('stopwords')\n",
        "plt.style.use('seaborn')"
      ]
    },
    {
      "cell_type": "markdown",
      "id": "48qRmaDLjUSV",
      "metadata": {
        "id": "48qRmaDLjUSV"
      },
      "source": [
        "### Funções para leitura e pré-processamento do corpus\n"
      ]
    },
    {
      "cell_type": "code",
      "execution_count": 2,
      "id": "53c8ddff",
      "metadata": {
        "id": "53c8ddff"
      },
      "outputs": [],
      "source": [
        "def open_dataset(dataset_name, dataset_type):\n",
        "    if dataset_type == 'excel' or 'xlsx':\n",
        "        df = pd.read_excel(str(dataset_name))\n",
        "        return df\n",
        "    elif dataset_type == 'csv':\n",
        "        df = pd.read_excel(str(dataset_name))\n",
        "        return df\n",
        "\n",
        "def preprocess_text(text):\n",
        "    \"\"\"\n",
        "    Realiza pré-processamento de texto em uma string.\n",
        "\n",
        "    Args:\n",
        "        text (str): O texto a ser pré-processado.\n",
        "\n",
        "    Returns:\n",
        "        str: O texto pré-processado.\n",
        "    \"\"\"\n",
        "    text = remove_characters(text)\n",
        "    text = remove_accents(text)\n",
        "    text = tokenize(text)\n",
        "    text = remove_stopwords(text)\n",
        "    text = untokenize(text)\n",
        "    text = stemming(text)\n",
        "    return text\n",
        "\n",
        "def remove_characters(txt):\n",
        "    \"\"\"\n",
        "    Remove caracteres especiais de uma string.\n",
        "\n",
        "    Args:\n",
        "        txt (str): A string de entrada.\n",
        "\n",
        "    Returns:\n",
        "        str: A string sem caracteres especiais.\n",
        "    \"\"\"\n",
        "    sc = [k for k in txt.lower() if k not in string.punctuation]\n",
        "    sc_ = ''.join(sc)\n",
        "    return sc_\n",
        "\n",
        "def remove_accents(txt):\n",
        "    \"\"\"\n",
        "    Remove acentos de uma string.\n",
        "\n",
        "    Args:\n",
        "        txt (str): A string de entrada.\n",
        "\n",
        "    Returns:\n",
        "        str: A string sem acentos.\n",
        "    \"\"\"\n",
        "    return normalize('NFKD', txt).encode('ASCII', 'ignore').decode('ASCII')\n",
        "\n",
        "def tokenize(txt):\n",
        "    \"\"\"\n",
        "    Tokeniza uma string em uma lista de tokens.\n",
        "\n",
        "    Args:\n",
        "        txt (str): A string de entrada.\n",
        "\n",
        "    Returns:\n",
        "        list: Uma lista de tokens.\n",
        "    \"\"\"\n",
        "    return RegexpTokenizer('\\w+').tokenize(txt)\n",
        "\n",
        "def untokenize(txt):\n",
        "    \"\"\"\n",
        "    Junta uma lista de tokens em uma única string.\n",
        "\n",
        "    Args:\n",
        "        txt (list): A lista de tokens.\n",
        "\n",
        "    Returns:\n",
        "        str: A string unida.\n",
        "    \"\"\"\n",
        "    return (' ').join(i for i in txt)\n",
        "\n",
        "def remove_stopwords(txt):\n",
        "    \"\"\"\n",
        "    Remove stopwords de uma lista de tokens.\n",
        "\n",
        "    Args:\n",
        "        txt (list): A lista de tokens.\n",
        "\n",
        "    Returns:\n",
        "        list: A lista de tokens sem stopwords.\n",
        "    \"\"\"\n",
        "    stopwords = nltk.corpus.stopwords.words('portuguese')\n",
        "    return [w for w in txt if w.lower() not in stopwords]\n",
        "\n",
        "def stemming(txt):\n",
        "    \"\"\"\n",
        "    Realiza stemming em uma string.\n",
        "\n",
        "    Args:\n",
        "        txt (str): A string de entrada.\n",
        "\n",
        "    Returns:\n",
        "        str: A string após aplicação de stemming.\n",
        "    \"\"\"\n",
        "    stemmer = nltk.stem.RSLPStemmer()\n",
        "    return ' '.join([stemmer.stem(i) for i in txt.split()])\n",
        "\n",
        "def vectorizer(X, vec_type):\n",
        "    if vec_type == 'countvectorizer':\n",
        "        CountVec = CountVectorizer()\n",
        "        numeric_matrix = CountVec.fit_transform(X)\n",
        "        return numeric_matrix\n",
        "\n",
        "    elif vec_type == 'tfidf-vectorizer' or 'tfidf':\n",
        "        Tfidf = TfidfVectorizer()\n",
        "        numeric_matrix = Tfidf.fit_transform(X)\n",
        "        return numeric_matrix"
      ]
    },
    {
      "cell_type": "markdown",
      "id": "7BBG2TgRmzw_",
      "metadata": {
        "id": "7BBG2TgRmzw_"
      },
      "source": [
        "### Leitura do Corpus"
      ]
    },
    {
      "cell_type": "code",
      "execution_count": 3,
      "id": "3522ba10",
      "metadata": {
        "id": "3522ba10"
      },
      "outputs": [],
      "source": [
        "df = open_dataset('tweetEmotionsPTBR.xlsx', 'xlsx')"
      ]
    },
    {
      "cell_type": "code",
      "execution_count": 4,
      "id": "67dc19b9",
      "metadata": {
        "id": "67dc19b9"
      },
      "outputs": [
        {
          "data": {
            "text/plain": [
              "([<matplotlib.patches.Wedge at 0x20c99a8e590>,\n",
              "  <matplotlib.patches.Wedge at 0x20c99a8d990>,\n",
              "  <matplotlib.patches.Wedge at 0x20c99a83490>,\n",
              "  <matplotlib.patches.Wedge at 0x20c99a83a90>,\n",
              "  <matplotlib.patches.Wedge at 0x20c99a74290>,\n",
              "  <matplotlib.patches.Wedge at 0x20c99a77390>,\n",
              "  <matplotlib.patches.Wedge at 0x20c99a68590>,\n",
              "  <matplotlib.patches.Wedge at 0x20c99a6af10>,\n",
              "  <matplotlib.patches.Wedge at 0x20c99a61850>,\n",
              "  <matplotlib.patches.Wedge at 0x20c99a77f50>,\n",
              "  <matplotlib.patches.Wedge at 0x20c99a5f350>,\n",
              "  <matplotlib.patches.Wedge at 0x20c99a5f690>,\n",
              "  <matplotlib.patches.Wedge at 0x20c99a4c390>,\n",
              "  <matplotlib.patches.Wedge at 0x20c99a4c050>,\n",
              "  <matplotlib.patches.Wedge at 0x20c99a44fd0>,\n",
              "  <matplotlib.patches.Wedge at 0x20c99a3aa10>],\n",
              " [Text(1.0780790049241498, 0.218507801100453, 'alegria'),\n",
              "  Text(0.9088407142183793, 0.6196842390919962, 'decepção'),\n",
              "  Text(0.5976619954549425, 0.9234717858109236, 'confianca'),\n",
              "  Text(0.19414395095271067, 1.0827317887216907, 'submissão'),\n",
              "  Text(-0.2406331914839353, 1.0733571945798175, 'raiva'),\n",
              "  Text(-0.6404623167916762, 0.8943198649084335, 'antecipacao'),\n",
              "  Text(-0.9382813797667755, 0.5741324345331451, 'otimismo'),\n",
              "  Text(-1.087539180555732, 0.1651015770856445, 'agressividade'),\n",
              "  Text(-1.0669328903664175, -0.26768303542503846, 'medo'),\n",
              "  Text(-0.8946371691710788, -0.6400190118563344, 'intimidação'),\n",
              "  Text(-0.6008621107181524, -0.9213928173712485, 'remorso'),\n",
              "  Text(-0.22091158863699617, -1.0775890079273631, 'surpresa'),\n",
              "  Text(0.19360733626775753, -1.0828278715212791, 'nojo'),\n",
              "  Text(0.5992629492364503, -0.9224336928324073, 'tristeza'),\n",
              "  Text(0.911290467263821, -0.6160760377372966, 'desprezo'),\n",
              "  Text(1.078563632189922, -0.21610296461937517, 'amor')],\n",
              " [Text(0.5880430935949907, 0.1191860733275198, '6.4%'),\n",
              "  Text(0.4957312986645705, 0.33800958495927064, '6.3%'),\n",
              "  Text(0.3259974520663322, 0.5037118831695947, '6.3%'),\n",
              "  Text(0.10589670051966037, 0.5905809756663767, '6.3%'),\n",
              "  Text(-0.13125446808214652, 0.5854675606799004, '6.4%'),\n",
              "  Text(-0.3493430818863688, 0.4878108354046, '6.4%'),\n",
              "  Text(-0.5117898435091502, 0.3131631461089882, '6.4%'),\n",
              "  Text(-0.5932031893940356, 0.0900554056830788, '6.3%'),\n",
              "  Text(-0.5819633947453186, -0.14600892841365734, '6.3%'),\n",
              "  Text(-0.48798391045695205, -0.3491012791943641, '5.6%'),\n",
              "  Text(-0.3277429694826286, -0.5025779003843173, '6.2%'),\n",
              "  Text(-0.12049723016563427, -0.5877758225058344, '5.8%'),\n",
              "  Text(0.10560400160059501, -0.5906333844661521, '6.3%'),\n",
              "  Text(0.3268706995835183, -0.5031456506358585, '6.4%'),\n",
              "  Text(0.49706752759844774, -0.3360414751294345, '6.3%'),\n",
              "  Text(0.5883074357399574, -0.11787434433784098, '6.3%')])"
            ]
          },
          "execution_count": 4,
          "metadata": {},
          "output_type": "execute_result"
        },
        {
          "data": {
            "image/png": "[encoded data removed]",
            "text/plain": [
              "<Figure size 900x400 with 1 Axes>"
            ]
          },
          "metadata": {},
          "output_type": "display_data"
        }
      ],
      "source": [
        "emotions = Counter(df.sentimento)\n",
        "plt.figure(figsize=(9, 4))\n",
        "plt.title(f'$Distribution $ $of$ $emotions$ $in$ {len(list(df.sentimento))} $comments$')\n",
        "plt.pie(x=emotions.values(), labels=emotions.keys(),\n",
        "        shadow=True, autopct='%1.1f%%')"
      ]
    },
    {
      "cell_type": "markdown",
      "id": "iLb5Keh8p5Z4",
      "metadata": {
        "id": "iLb5Keh8p5Z4"
      },
      "source": [
        "### Pré-Processamento"
      ]
    },
    {
      "cell_type": "code",
      "execution_count": 5,
      "id": "4ca52a4a",
      "metadata": {
        "id": "4ca52a4a"
      },
      "outputs": [],
      "source": [
        "descartar = ['UserTags', 'replys', 'reTweets', 'likes', 'sentimento']\n",
        "\n",
        "for coluna in descartar:\n",
        "    if coluna in df.columns:\n",
        "        df = df.drop(coluna, axis=1)"
      ]
    },
    {
      "cell_type": "code",
      "execution_count": 6,
      "id": "83947e8b",
      "metadata": {
        "id": "83947e8b"
      },
      "outputs": [],
      "source": [
        "df['texto'] = df['texto'].apply(preprocess_text)\n",
        "\n",
        "df = df[df['texto'] != '']\n",
        "df = df.drop_duplicates()"
      ]
    },
    {
      "cell_type": "markdown",
      "id": "mfNu8qFNp_Lh",
      "metadata": {
        "id": "mfNu8qFNp_Lh"
      },
      "source": [
        "## Leitura  e pré- processamento do Corpus Teste"
      ]
    },
    {
      "cell_type": "code",
      "execution_count": 7,
      "id": "UjweK8iaMIBx",
      "metadata": {
        "id": "UjweK8iaMIBx"
      },
      "outputs": [],
      "source": [
        "df_teste = open_dataset('FrasesChatgpt.xlsx', 'xlsx')"
      ]
    },
    {
      "cell_type": "code",
      "execution_count": 8,
      "id": "_9znjlbEoQ_9",
      "metadata": {
        "id": "_9znjlbEoQ_9"
      },
      "outputs": [],
      "source": [
        "df_teste = df_teste.drop('sentimento', axis=1)\n",
        "\n",
        "df_teste['texto'] = df_teste['texto'].apply(preprocess_text)\n",
        "df_teste = df_teste[df_teste['texto'] != '']\n",
        "df_teste = df_teste.drop_duplicates()"
      ]
    },
    {
      "cell_type": "markdown",
      "id": "kKUqDAqRqOb5",
      "metadata": {
        "id": "kKUqDAqRqOb5"
      },
      "source": [
        "## Treinamento"
      ]
    },
    {
      "cell_type": "markdown",
      "id": "kGG97ixLskin",
      "metadata": {
        "id": "kGG97ixLskin"
      },
      "source": [
        "### Definição das variáveis de treino e teste"
      ]
    },
    {
      "cell_type": "code",
      "execution_count": 9,
      "id": "35RL0rZAMqDg",
      "metadata": {
        "id": "35RL0rZAMqDg"
      },
      "outputs": [],
      "source": [
        "X_train = df[\"texto\"]\n",
        "y_train = df.drop('texto', axis=1)\n",
        "\n",
        "X_test = df_teste[\"texto\"]\n",
        "y_test = df_teste.drop('texto', axis=1)\n",
        "\n",
        "# inicializando TfidfVectorizer\n",
        "vectorizer = TfidfVectorizer(max_features=2500, max_df=0.9)\n",
        "vectorizer.fit(X_train)\n",
        "vectorizer.fit(X_test)\n",
        "\n",
        "# transforming the data\n",
        "X_train_tfidf = vectorizer.transform(X_train)\n",
        "X_test_tfidf = vectorizer.transform(X_test)"
      ]
    },
    {
      "cell_type": "markdown",
      "id": "aX4HQaIAss-o",
      "metadata": {
        "id": "aX4HQaIAss-o"
      },
      "source": [
        "### Treino da classificação multiLabel"
      ]
    },
    {
      "cell_type": "code",
      "execution_count": 10,
      "id": "i6YvtK42OAuF",
      "metadata": {
        "id": "i6YvtK42OAuF"
      },
      "outputs": [
        {
          "name": "stdout",
          "output_type": "stream",
          "text": [
            "Melhores parâmetros encontrados:\n",
            "{'clf__estimator__C': 100, 'clf__estimator__max_iter': 1000, 'clf__estimator__penalty': 'l2', 'clf__estimator__tol': 0.001, 'clf__estimator__verbose': 0}\n"
          ]
        }
      ],
      "source": [
        "# Defina o pipeline com o classificador MultiOutputClassifier\n",
        "pipeline = Pipeline([\n",
        "    ('clf', MultiOutputClassifier(LinearSVC(random_state=0)))\n",
        "])\n",
        "\n",
        "# Defina os parâmetros que você deseja ajustar\n",
        "parameters = {\n",
        "    'clf__estimator__C': [100],  # Teste diferentes valores para o parâmetro de regularização C\n",
        "    'clf__estimator__max_iter': [1000],  # Teste diferentes valores para o número máximo de iterações\n",
        "    'clf__estimator__penalty': ['l2'],  # Teste diferentes penalidades (regularização l1 ou l2)\n",
        "    'clf__estimator__tol': [1e-3],  # Teste diferentes valores de tolerância\n",
        "    'clf__estimator__verbose': [0]  # Teste diferentes níveis de detalhe das mensagens de registro\n",
        "}\n",
        "\n",
        "# Inicialize o GridSearchCV\n",
        "grid_search = GridSearchCV(pipeline, parameters, cv=5, n_jobs=-1)\n",
        "\n",
        "# Ajuste o GridSearchCV aos dados\n",
        "grid_search.fit(X_train_tfidf, y_train)\n",
        "\n",
        "# Exiba os melhores parâmetros encontrados\n",
        "print(\"Melhores parâmetros encontrados:\")\n",
        "print(grid_search.best_params_)"
      ]
    },
    {
      "cell_type": "markdown",
      "id": "QLpTTPCjqwS0",
      "metadata": {
        "id": "QLpTTPCjqwS0"
      },
      "source": [
        "#### Salvando e carregando o modelo treinado"
      ]
    },
    {
      "cell_type": "code",
      "execution_count": 11,
      "id": "x2FcjU1z1nX4",
      "metadata": {
        "id": "x2FcjU1z1nX4"
      },
      "outputs": [],
      "source": [
        "modelo_path = 'modeloGridSearch.pkl'\n",
        "\n",
        "# Salvando o modelo usando joblib\n",
        "joblib.dump(grid_search, modelo_path)\n",
        "\n",
        "# Carregando o modelo salvo\n",
        "clf_carregado = joblib.load(modelo_path)"
      ]
    },
    {
      "cell_type": "markdown",
      "id": "h-iCXffetDla",
      "metadata": {
        "id": "h-iCXffetDla"
      },
      "source": [
        "## Teste"
      ]
    },
    {
      "cell_type": "code",
      "execution_count": 12,
      "id": "a6006d8e",
      "metadata": {
        "id": "a6006d8e"
      },
      "outputs": [
        {
          "name": "stdout",
          "output_type": "stream",
          "text": [
            "alegria\n",
            "alegria, antecipacao\n",
            "alegria, confianca\n",
            "alegria, confianca\n",
            "alegria\n",
            "raiva\n",
            "alegria\n",
            "alegria, medo, antecipacao\n",
            "alegria\n",
            "alegria, confianca\n",
            "Nenhuma emoção presente.\n",
            "alegria\n",
            "alegria, antecipacao\n",
            "alegria, antecipacao\n",
            "alegria, antecipacao\n",
            "alegria, antecipacao\n",
            "alegria\n",
            "alegria\n",
            "tristeza\n",
            "alegria\n",
            "alegria, antecipacao\n",
            "medo, confianca\n",
            "alegria\n",
            "alegria, antecipacao\n",
            "medo, confianca\n",
            "alegria, medo\n",
            "alegria\n",
            "alegria\n",
            "alegria\n",
            "alegria, antecipacao\n",
            "medo, surpresa\n",
            "medo, surpresa\n",
            "medo, surpresa\n",
            "medo, surpresa\n",
            "medo, surpresa\n",
            "Nenhuma emoção presente.\n",
            "medo, surpresa\n",
            "medo, surpresa\n",
            "medo, surpresa\n",
            "nojo\n",
            "tristeza, surpresa\n",
            "tristeza, surpresa\n",
            "tristeza, surpresa\n",
            "tristeza, surpresa\n",
            "confianca\n",
            "surpresa\n",
            "nojo\n",
            "Nenhuma emoção presente.\n",
            "surpresa\n",
            "surpresa\n",
            "tristeza, nojo\n",
            "tristeza, nojo\n",
            "tristeza, nojo\n",
            "tristeza, nojo\n",
            "tristeza, nojo\n",
            "tristeza, nojo\n",
            "tristeza, nojo\n",
            "tristeza, nojo\n",
            "Nenhuma emoção presente.\n",
            "tristeza, nojo\n",
            "raiva, nojo\n",
            "raiva, nojo\n",
            "raiva, nojo\n",
            "raiva, nojo\n",
            "raiva, nojo\n",
            "Nenhuma emoção presente.\n",
            "nojo\n",
            "raiva, nojo\n",
            "nojo\n",
            "raiva, nojo\n",
            "raiva\n",
            "raiva, antecipacao\n",
            "raiva, antecipacao\n",
            "raiva, antecipacao\n",
            "raiva, antecipacao\n",
            "tristeza, raiva\n",
            "raiva, antecipacao\n",
            "raiva, antecipacao\n",
            "raiva, antecipacao\n",
            "raiva\n"
          ]
        }
      ],
      "source": [
        "prediction = grid_search.predict(X_test_tfidf)\n",
        "prediction\n",
        "\n",
        "colunas = ['alegria', 'tristeza', 'raiva', 'medo', 'nojo', 'surpresa', 'confianca', 'antecipacao']\n",
        "\n",
        "nomes_colunas_predicao = [colunas[i] for i in range(prediction.shape[1])]\n",
        "\n",
        "for i, predicao_em_linha in enumerate(prediction):\n",
        "    colunas_com_valor_1 = [nomes_colunas_predicao[j] for j, valor_predito in enumerate(predicao_em_linha) if valor_predito == 1]\n",
        "    if colunas_com_valor_1:\n",
        "        print(f\"{', '.join(colunas_com_valor_1)}\")\n",
        "    else:\n",
        "        print(\"Nenhuma emoção presente.\")"
      ]
    },
    {
      "cell_type": "markdown",
      "id": "gRgGA231tNIl",
      "metadata": {
        "id": "gRgGA231tNIl"
      },
      "source": [
        "## Resultados"
      ]
    },
    {
      "cell_type": "markdown",
      "id": "rr1ilk6fwUy-",
      "metadata": {
        "id": "rr1ilk6fwUy-"
      },
      "source": [
        "### Métricas"
      ]
    },
    {
      "cell_type": "code",
      "execution_count": 13,
      "id": "c2481422",
      "metadata": {
        "id": "c2481422"
      },
      "outputs": [
        {
          "name": "stdout",
          "output_type": "stream",
          "text": [
            "Hamming Loss:  0.1125\n",
            "Acurácia:  0.5625\n",
            "Precisão:  0.8546208944793853\n",
            "Recall:  0.6729559748427673\n",
            "Métrica F1:  0.7320189483545988\n"
          ]
        }
      ],
      "source": [
        "print('Hamming Loss: ', hamming_loss(y_test, prediction))\n",
        "print('Acurácia: ', accuracy_score(y_test, prediction, ))\n",
        "print('Precisão: ', precision_score(y_test, prediction, average='weighted'))\n",
        "print('Recall: ', recall_score(y_test, prediction, average='weighted'))\n",
        "print('Métrica F1: ', f1_score(y_test, prediction, average='weighted'))"
      ]
    },
    {
      "cell_type": "markdown",
      "id": "smMbj0nIwJJB",
      "metadata": {
        "id": "smMbj0nIwJJB"
      },
      "source": [
        "### Relatório de classificação global"
      ]
    },
    {
      "cell_type": "code",
      "execution_count": 14,
      "id": "hoSpv9GZOyDi",
      "metadata": {
        "id": "hoSpv9GZOyDi"
      },
      "outputs": [
        {
          "name": "stdout",
          "output_type": "stream",
          "text": [
            "Métricas Globais:\n",
            "Acurária: 0.5625\n",
            "Precisão (Macro): 0.8536\n",
            "Recall (Macro): 0.6724\n",
            "F1 Score (Macro): 0.7314\n",
            "\n",
            "Relatório de Classificação:\n",
            "              precision    recall  f1-score   support\n",
            "\n",
            "           0       0.68      0.85      0.76        20\n",
            "           1       0.87      0.65      0.74        20\n",
            "           2       0.94      0.85      0.89        20\n",
            "           3       0.92      0.55      0.69        20\n",
            "           4       0.90      0.90      0.90        20\n",
            "           5       1.00      0.75      0.86        20\n",
            "           6       0.83      0.25      0.38        20\n",
            "           7       0.69      0.58      0.63        19\n",
            "\n",
            "   micro avg       0.84      0.67      0.75       159\n",
            "   macro avg       0.85      0.67      0.73       159\n",
            "weighted avg       0.85      0.67      0.73       159\n",
            " samples avg       0.76      0.68      0.70       159\n",
            "\n"
          ]
        }
      ],
      "source": [
        "from sklearn.metrics import accuracy_score, precision_score, recall_score, f1_score, classification_report\n",
        "\n",
        "# Realizar a previsão no conjunto de dados não vistos\n",
        "prediction_dadosNvistos = grid_search.predict(X_test_tfidf)\n",
        "\n",
        "# Converter as previsões e rótulos verdadeiros para DataFrames para facilitar o cálculo de métricas\n",
        "df_true_labels = y_test.reset_index(drop=True)\n",
        "\n",
        "# Calcular métricas globais\n",
        "accuracy = accuracy_score(df_true_labels, prediction_dadosNvistos)\n",
        "precision_macro = precision_score(df_true_labels, prediction_dadosNvistos, average='macro')\n",
        "recall_macro = recall_score(df_true_labels, prediction_dadosNvistos, average='macro')\n",
        "f1_macro = f1_score(df_true_labels, prediction_dadosNvistos, average='macro')\n",
        "\n",
        "print(f\"Métricas Globais:\")\n",
        "print(f\"Acurária: {accuracy:.4f}\")\n",
        "print(f\"Precisão (Macro): {precision_macro:.4f}\")\n",
        "print(f\"Recall (Macro): {recall_macro:.4f}\")\n",
        "print(f\"F1 Score (Macro): {f1_macro:.4f}\")\n",
        "\n",
        "# Relatório de classificação global\n",
        "print(\"\\nRelatório de Classificação:\")\n",
        "print(classification_report(df_true_labels, prediction_dadosNvistos))"
      ]
    },
    {
      "cell_type": "markdown",
      "id": "CuXIOOprwYKj",
      "metadata": {
        "id": "CuXIOOprwYKj"
      },
      "source": [
        "### Relatório de classificação por emoção"
      ]
    },
    {
      "cell_type": "code",
      "execution_count": 15,
      "id": "VclzX_2EO3pT",
      "metadata": {
        "colab": {
          "base_uri": "https://localhost:8080/"
        },
        "id": "VclzX_2EO3pT",
        "outputId": "86ea653b-e55f-4b0d-bcb7-fa2fedf18a65"
      },
      "outputs": [
        {
          "name": "stdout",
          "output_type": "stream",
          "text": [
            "Métricas para a emoção 'alegria':\n",
            "Acurácia: 0.8625\n",
            "Precisão: 0.6800\n",
            "Recall: 0.8500\n",
            "F1 Score: 0.7556\n",
            "\n",
            "\n",
            "Métricas para a emoção 'tristeza':\n",
            "Acurácia: 0.8875\n",
            "Precisão: 0.8667\n",
            "Recall: 0.6500\n",
            "F1 Score: 0.7429\n",
            "\n",
            "\n",
            "Métricas para a emoção 'raiva':\n",
            "Acurácia: 0.9500\n",
            "Precisão: 0.9444\n",
            "Recall: 0.8500\n",
            "F1 Score: 0.8947\n",
            "\n",
            "\n",
            "Métricas para a emoção 'medo':\n",
            "Acurácia: 0.8750\n",
            "Precisão: 0.9167\n",
            "Recall: 0.5500\n",
            "F1 Score: 0.6875\n",
            "\n",
            "\n",
            "Métricas para a emoção 'nojo':\n",
            "Acurácia: 0.9500\n",
            "Precisão: 0.9000\n",
            "Recall: 0.9000\n",
            "F1 Score: 0.9000\n",
            "\n",
            "\n",
            "Métricas para a emoção 'surpresa':\n",
            "Acurácia: 0.9375\n",
            "Precisão: 1.0000\n",
            "Recall: 0.7500\n",
            "F1 Score: 0.8571\n",
            "\n",
            "\n",
            "Métricas para a emoção 'confianca':\n",
            "Acurácia: 0.8000\n",
            "Precisão: 0.8333\n",
            "Recall: 0.2500\n",
            "F1 Score: 0.3846\n",
            "\n",
            "\n",
            "Métricas para a emoção 'antecipacao':\n",
            "Acurácia: 0.8375\n",
            "Precisão: 0.6875\n",
            "Recall: 0.5789\n",
            "F1 Score: 0.6286\n",
            "\n",
            "\n",
            "Relatório de Classificação:\n",
            "              precision    recall  f1-score   support\n",
            "\n",
            "     alegria       0.68      0.85      0.76        20\n",
            "    tristeza       0.87      0.65      0.74        20\n",
            "       raiva       0.94      0.85      0.89        20\n",
            "        medo       0.92      0.55      0.69        20\n",
            "        nojo       0.90      0.90      0.90        20\n",
            "    surpresa       1.00      0.75      0.86        20\n",
            "   confianca       0.83      0.25      0.38        20\n",
            " antecipacao       0.69      0.58      0.63        19\n",
            "\n",
            "   micro avg       0.84      0.67      0.75       159\n",
            "   macro avg       0.85      0.67      0.73       159\n",
            "weighted avg       0.85      0.67      0.73       159\n",
            " samples avg       0.76      0.68      0.70       159\n",
            "\n"
          ]
        }
      ],
      "source": [
        "# Realizar a previsão no conjunto de dados não vistos\n",
        "prediction_dadosNvistos = grid_search.predict(X_test_tfidf)\n",
        "\n",
        "# Converter as previsões e rótulos verdadeiros para DataFrames para facilitar o cálculo de métricas\n",
        "df_prediction = pd.DataFrame(prediction_dadosNvistos, columns=nomes_colunas_predicao)\n",
        "df_true_labels = y_test.reset_index(drop=True)\n",
        "\n",
        "# Calcular métricas para cada emoção\n",
        "for coluna in nomes_colunas_predicao:\n",
        "    accuracy = accuracy_score(df_true_labels[coluna], df_prediction[coluna])\n",
        "    precision = precision_score(df_true_labels[coluna], df_prediction[coluna])\n",
        "    recall = recall_score(df_true_labels[coluna], df_prediction[coluna])\n",
        "    f1 = f1_score(df_true_labels[coluna], df_prediction[coluna])\n",
        "\n",
        "    print(f\"Métricas para a emoção '{coluna}':\")\n",
        "    print(f\"Acurácia: {accuracy:.4f}\")\n",
        "    print(f\"Precisão: {precision:.4f}\")\n",
        "    print(f\"Recall: {recall:.4f}\")\n",
        "    print(f\"F1 Score: {f1:.4f}\")\n",
        "    print(\"\\n\")\n",
        "\n",
        "# Relatório de classificação para todas as emoções\n",
        "print(\"Relatório de Classificação:\")\n",
        "print(classification_report(df_true_labels, df_prediction, target_names=nomes_colunas_predicao))"
      ]
    }
  ],
  "metadata": {
    "colab": {
      "provenance": []
    },
    "kernelspec": {
      "display_name": "Python 3 (ipykernel)",
      "language": "python",
      "name": "python3"
    },
    "language_info": {
      "codemirror_mode": {
        "name": "ipython",
        "version": 3
      },
      "file_extension": ".py",
      "mimetype": "text/x-python",
      "name": "python",
      "nbconvert_exporter": "python",
      "pygments_lexer": "ipython3",
      "version": "3.11.1"
    }
  },
  "nbformat": 4,
  "nbformat_minor": 5
}
